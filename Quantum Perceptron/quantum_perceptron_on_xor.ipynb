{
  "nbformat": 4,
  "nbformat_minor": 0,
  "metadata": {
    "colab": {
      "provenance": [],
      "gpuType": "V28"
    },
    "kernelspec": {
      "name": "python3",
      "display_name": "Python 3"
    },
    "language_info": {
      "name": "python"
    },
    "accelerator": "TPU"
  },
  "cells": [
    {
      "cell_type": "code",
      "execution_count": 1,
      "metadata": {
        "colab": {
          "base_uri": "https://localhost:8080/"
        },
        "id": "HPDsGXlXHfMw",
        "outputId": "d3bfa612-8d1d-4846-d720-b6d8c22a7395"
      },
      "outputs": [
        {
          "output_type": "stream",
          "name": "stdout",
          "text": [
            "Collecting qiskit\n",
            "  Downloading qiskit-1.0.2-cp38-abi3-manylinux_2_17_x86_64.manylinux2014_x86_64.whl (5.6 MB)\n",
            "\u001b[2K     \u001b[90m━━━━━━━━━━━━━━━━━━━━━━━━━━━━━━━━━━━━━━━━\u001b[0m \u001b[32m5.6/5.6 MB\u001b[0m \u001b[31m13.3 MB/s\u001b[0m eta \u001b[36m0:00:00\u001b[0m\n",
            "\u001b[?25hCollecting rustworkx>=0.14.0 (from qiskit)\n",
            "  Downloading rustworkx-0.14.2-cp310-cp310-manylinux_2_17_x86_64.manylinux2014_x86_64.whl (2.1 MB)\n",
            "\u001b[2K     \u001b[90m━━━━━━━━━━━━━━━━━━━━━━━━━━━━━━━━━━━━━━━━\u001b[0m \u001b[32m2.1/2.1 MB\u001b[0m \u001b[31m23.2 MB/s\u001b[0m eta \u001b[36m0:00:00\u001b[0m\n",
            "\u001b[?25hRequirement already satisfied: numpy<2,>=1.17 in /usr/local/lib/python3.10/dist-packages (from qiskit) (1.25.2)\n",
            "Requirement already satisfied: scipy>=1.5 in /usr/local/lib/python3.10/dist-packages (from qiskit) (1.11.4)\n",
            "Requirement already satisfied: sympy>=1.3 in /usr/local/lib/python3.10/dist-packages (from qiskit) (1.12)\n",
            "Collecting dill>=0.3 (from qiskit)\n",
            "  Downloading dill-0.3.8-py3-none-any.whl (116 kB)\n",
            "\u001b[2K     \u001b[90m━━━━━━━━━━━━━━━━━━━━━━━━━━━━━━━━━━━━━━━━\u001b[0m \u001b[32m116.3/116.3 kB\u001b[0m \u001b[31m7.0 MB/s\u001b[0m eta \u001b[36m0:00:00\u001b[0m\n",
            "\u001b[?25hRequirement already satisfied: python-dateutil>=2.8.0 in /usr/local/lib/python3.10/dist-packages (from qiskit) (2.8.2)\n",
            "Collecting stevedore>=3.0.0 (from qiskit)\n",
            "  Downloading stevedore-5.2.0-py3-none-any.whl (49 kB)\n",
            "\u001b[2K     \u001b[90m━━━━━━━━━━━━━━━━━━━━━━━━━━━━━━━━━━━━━━━━\u001b[0m \u001b[32m49.7/49.7 kB\u001b[0m \u001b[31m4.5 MB/s\u001b[0m eta \u001b[36m0:00:00\u001b[0m\n",
            "\u001b[?25hRequirement already satisfied: typing-extensions in /usr/local/lib/python3.10/dist-packages (from qiskit) (4.11.0)\n",
            "Collecting symengine>=0.11 (from qiskit)\n",
            "  Downloading symengine-0.11.0-cp310-cp310-manylinux_2_12_x86_64.manylinux2010_x86_64.whl (39.4 MB)\n",
            "\u001b[2K     \u001b[90m━━━━━━━━━━━━━━━━━━━━━━━━━━━━━━━━━━━━━━━━\u001b[0m \u001b[32m39.4/39.4 MB\u001b[0m \u001b[31m11.8 MB/s\u001b[0m eta \u001b[36m0:00:00\u001b[0m\n",
            "\u001b[?25hRequirement already satisfied: six>=1.5 in /usr/local/lib/python3.10/dist-packages (from python-dateutil>=2.8.0->qiskit) (1.16.0)\n",
            "Collecting pbr!=2.1.0,>=2.0.0 (from stevedore>=3.0.0->qiskit)\n",
            "  Downloading pbr-6.0.0-py2.py3-none-any.whl (107 kB)\n",
            "\u001b[2K     \u001b[90m━━━━━━━━━━━━━━━━━━━━━━━━━━━━━━━━━━━━━━━━\u001b[0m \u001b[32m107.5/107.5 kB\u001b[0m \u001b[31m4.6 MB/s\u001b[0m eta \u001b[36m0:00:00\u001b[0m\n",
            "\u001b[?25hRequirement already satisfied: mpmath>=0.19 in /usr/local/lib/python3.10/dist-packages (from sympy>=1.3->qiskit) (1.3.0)\n",
            "Installing collected packages: symengine, rustworkx, pbr, dill, stevedore, qiskit\n",
            "Successfully installed dill-0.3.8 pbr-6.0.0 qiskit-1.0.2 rustworkx-0.14.2 stevedore-5.2.0 symengine-0.11.0\n",
            "Collecting qiskit_aer\n",
            "  Downloading qiskit_aer-0.14.1-cp310-cp310-manylinux_2_17_x86_64.manylinux2014_x86_64.whl (12.3 MB)\n",
            "\u001b[2K     \u001b[90m━━━━━━━━━━━━━━━━━━━━━━━━━━━━━━━━━━━━━━━━\u001b[0m \u001b[32m12.3/12.3 MB\u001b[0m \u001b[31m13.4 MB/s\u001b[0m eta \u001b[36m0:00:00\u001b[0m\n",
            "\u001b[?25hRequirement already satisfied: qiskit>=0.45.0 in /usr/local/lib/python3.10/dist-packages (from qiskit_aer) (1.0.2)\n",
            "Requirement already satisfied: numpy>=1.16.3 in /usr/local/lib/python3.10/dist-packages (from qiskit_aer) (1.25.2)\n",
            "Requirement already satisfied: scipy>=1.0 in /usr/local/lib/python3.10/dist-packages (from qiskit_aer) (1.11.4)\n",
            "Requirement already satisfied: psutil>=5 in /usr/local/lib/python3.10/dist-packages (from qiskit_aer) (5.9.5)\n",
            "Requirement already satisfied: rustworkx>=0.14.0 in /usr/local/lib/python3.10/dist-packages (from qiskit>=0.45.0->qiskit_aer) (0.14.2)\n",
            "Requirement already satisfied: sympy>=1.3 in /usr/local/lib/python3.10/dist-packages (from qiskit>=0.45.0->qiskit_aer) (1.12)\n",
            "Requirement already satisfied: dill>=0.3 in /usr/local/lib/python3.10/dist-packages (from qiskit>=0.45.0->qiskit_aer) (0.3.8)\n",
            "Requirement already satisfied: python-dateutil>=2.8.0 in /usr/local/lib/python3.10/dist-packages (from qiskit>=0.45.0->qiskit_aer) (2.8.2)\n",
            "Requirement already satisfied: stevedore>=3.0.0 in /usr/local/lib/python3.10/dist-packages (from qiskit>=0.45.0->qiskit_aer) (5.2.0)\n",
            "Requirement already satisfied: typing-extensions in /usr/local/lib/python3.10/dist-packages (from qiskit>=0.45.0->qiskit_aer) (4.11.0)\n",
            "Requirement already satisfied: symengine>=0.11 in /usr/local/lib/python3.10/dist-packages (from qiskit>=0.45.0->qiskit_aer) (0.11.0)\n",
            "Requirement already satisfied: six>=1.5 in /usr/local/lib/python3.10/dist-packages (from python-dateutil>=2.8.0->qiskit>=0.45.0->qiskit_aer) (1.16.0)\n",
            "Requirement already satisfied: pbr!=2.1.0,>=2.0.0 in /usr/local/lib/python3.10/dist-packages (from stevedore>=3.0.0->qiskit>=0.45.0->qiskit_aer) (6.0.0)\n",
            "Requirement already satisfied: mpmath>=0.19 in /usr/local/lib/python3.10/dist-packages (from sympy>=1.3->qiskit>=0.45.0->qiskit_aer) (1.3.0)\n",
            "Installing collected packages: qiskit_aer\n",
            "Successfully installed qiskit_aer-0.14.1\n",
            "Collecting pylatexenc\n",
            "  Downloading pylatexenc-2.10.tar.gz (162 kB)\n",
            "\u001b[2K     \u001b[90m━━━━━━━━━━━━━━━━━━━━━━━━━━━━━━━━━━━━━━━━\u001b[0m \u001b[32m162.6/162.6 kB\u001b[0m \u001b[31m3.0 MB/s\u001b[0m eta \u001b[36m0:00:00\u001b[0m\n",
            "\u001b[?25h  Preparing metadata (setup.py) ... \u001b[?25l\u001b[?25hdone\n",
            "Building wheels for collected packages: pylatexenc\n",
            "  Building wheel for pylatexenc (setup.py) ... \u001b[?25l\u001b[?25hdone\n",
            "  Created wheel for pylatexenc: filename=pylatexenc-2.10-py3-none-any.whl size=136816 sha256=4942811895b5d44609799d411990fee418841234f00b74c8a8095fbc26d510cd\n",
            "  Stored in directory: /root/.cache/pip/wheels/d3/31/8b/e09b0386afd80cfc556c00408c9aeea5c35c4d484a9c762fd5\n",
            "Successfully built pylatexenc\n",
            "Installing collected packages: pylatexenc\n",
            "Successfully installed pylatexenc-2.10\n"
          ]
        }
      ],
      "source": [
        "!pip install qiskit\n",
        "!pip install qiskit_aer\n",
        "!pip install pylatexenc"
      ]
    },
    {
      "cell_type": "markdown",
      "source": [
        "# **Solving the XOR problem using a![eq1.gif](data:image/gif;base64,R0lGODlhVQETALMAAP///wAAAMzMzKqqqmZmZu7u7hAQENzc3CIiIjIyMrq6uoiIiHZ2dlRUVJiYmERERCH5BAEAAAAALAAAAABVARMAAAT+EMhJq7046817WV0ojmRpnmiqkuDqvvDZxBKDEKiN03woPIFDT/IL5m6nwm7IbJ4Wil5ikJo6rxSFYaJAcAqFkVZlPQ0c2DQqXB0G2Ke3+rqYSQ7RzaMVqqvkKAlzgyIOeSZnPV0pi4RMD2gjAQIjkIxeKQxUjpwXhigPQjwMSyaknT1GIgJbkqInp4x2GJQlAgNLBFQFBq8UrL4jt7m7vRufGg4LDgUODg21rVwMCgcMyBJnA3wACwsDAq8JkQDDEryv3uDi5OW4E+/wDtsr2wsHzjsK1NbYANrc1A1oZY6CtgF4GCRIcE0evQkCCcZDV0FduAnjJhT8VwpgBWn+F0BaUIALjwMCYKggiFYrwSEKBxqwIdCgps2bDCoUUMlSgstjLy3gYRVpwAMJmOAdQJCTwawGLRTksQSggSAJqnYCMNByaiSrE1QB0MpVAtQJZwFITbGzQIBIBNAgZArAKdqoXs3OIFur6tecAKiaxSuBas2xVMoC+DnB8FUAWRPXSluVcFhPlI7is3CrnCUEaw8EuDNawj0aUUSThhjMgj8LVBwkdaD58b8CWsJUkyB7AgMhtNECHiMhioDS3YAfNTscpHHkinvXaC1GrTSnA3Ab0C1Kel3ld9UCUG36cXasr7z/BhB8sPjjrCe0r9qcSznotdT72s55zzXGFLT+cFwY5NjF3nLsDWHgfO1MQJNNC+F0AQGA0VeObWHEQgECD5wBhQQGkGNAHgb6NkskIU4wYg2zmLgaUh0qE5RaD9Ro440NmvYUSnWVAqOHeaQIYl8avjUSSBwCCaKIRJ5IgZBbkdhiXXaQB0CSMlaAABwVOBAANxf4oWUelOX4Amju8cbBayEdsmIBSWG0yQRuBSOaKPD51CCaat5JBHIZjcnbcnXS0KGKm5RBp1ik4YncVrWIxiWLi9qpSp5IHUKOn/dhtGce7RWKgUhE+LfAA31ZoGhYbPB5QKoZPHiThBYA4iqsnsxYgZVWiuTWpG5xhtyp4gXxKqtECIEpsVH+GJsqIGdl9+gLgDTyq07TdmraUVEM4MVzOi2GRlvZLsstVmxc9CdE5zqLbGW3ZfskZoGNB6Z4kpqmohC8bGLmHTKhYEy/aq6pKwUOPJYwRlwOYNsEK8FDSSsFMMResO0AIuI5FjMzWoOl8VJNFBFngysJA/pUi8MXlPzPxBznhAYDMiOVnhARt+AyOFvFnCBkbDRIcccYUxDyiHhc2RfPdyAYEga9yUbgKwrE5YAADSgz6S/GnFC1M1hr3QGbFZHTQIXfBHjveJqcwUbVA4ATV4b+DKBJO3DLzUxdr500AEkNsR333iosENc26axtzeBv66J3GAJowsbibmfzjShulBOetwBzZ3P3SI5zvvc1L/kNeCSZc+mMBgcvnhDTqJxAdgYrAhz77RYIhvvuITywNe9pgCGClYX9DvwgjB6vPExTLn/8wjD56HwamE7vPI/WK+/NSHNm74QCCQRQofe8X03++dSdr/76JqS/QgQAOw==) single quantum perceptron.**"
      ],
      "metadata": {
        "id": "k7MHelTtILS2"
      }
    },
    {
      "cell_type": "code",
      "source": [
        "from qiskit import QuantumCircuit\n",
        "from qiskit_aer import Aer\n",
        "import numpy as np"
      ],
      "metadata": {
        "id": "SBCfuGcTIAHs"
      },
      "execution_count": 2,
      "outputs": []
    },
    {
      "cell_type": "code",
      "source": [
        "theta = np.pi\n",
        "alpha = -np.pi/2"
      ],
      "metadata": {
        "id": "TDXi3ocZI-KO"
      },
      "execution_count": 3,
      "outputs": []
    },
    {
      "cell_type": "code",
      "source": [
        "x_input = np.array([[0, 0], [0, 1], [1, 0], [1, 1]])\n",
        "y_input = np.array([[0], [1], [1], [0]])"
      ],
      "metadata": {
        "id": "oKQ1J1HiJO3n"
      },
      "execution_count": 4,
      "outputs": []
    },
    {
      "cell_type": "markdown",
      "source": [
        "Here is the circuit we gonna use to solve the XOR problem.\n",
        "The circuit is combined of a hadamard gate a Rz gate and a Rx gate"
      ],
      "metadata": {
        "id": "H1OffBpHVU1p"
      }
    },
    {
      "cell_type": "code",
      "source": [
        "quantum_circuit = QuantumCircuit(1, 1)\n",
        "quantum_circuit.reset(0)\n",
        "quantum_circuit.h(0)\n",
        "quantum_circuit.rz(x_input[0][0]*theta + alpha, 0)\n",
        "quantum_circuit.rx(x_input[0][1]*theta + alpha, 0)\n",
        "quantum_circuit.measure(0, 0)\n",
        "quantum_circuit.draw(output='mpl', scale=2)"
      ],
      "metadata": {
        "colab": {
          "base_uri": "https://localhost:8080/",
          "height": 346
        },
        "id": "ROaFyN4CU7T_",
        "outputId": "acaa546b-bf1e-4e1d-99d3-cefa7bda1b7a"
      },
      "execution_count": 26,
      "outputs": [
        {
          "output_type": "execute_result",
          "data": {
            "text/plain": [
              "<Figure size 1039.79x401.333 with 1 Axes>"
            ],
            "image/png": "[encoded data removed]"
          },
          "metadata": {},
          "execution_count": 26
        }
      ]
    },
    {
      "cell_type": "code",
      "source": [
        "for x in x_input:\n",
        "  quantum_circuit = QuantumCircuit(1, 1)\n",
        "  quantum_circuit.reset(0)\n",
        "  quantum_circuit.h(0)\n",
        "  quantum_circuit.rz(x[0]*theta + alpha, 0)\n",
        "  quantum_circuit.rx(x[1]*theta + alpha, 0)\n",
        "  quantum_circuit.measure(0, 0)\n",
        "  simulator = Aer.get_backend('aer_simulator')\n",
        "  job = simulator.run(quantum_circuit, shots=1024)\n",
        "  results = job.result()\n",
        "  counts = results.get_counts()\n",
        "  max_key = max(counts, key=lambda k: counts[k])\n",
        "  prediction = int(max_key)\n",
        "  print(f'{x[0]} xor {x[1]} = {prediction}')\n"
      ],
      "metadata": {
        "colab": {
          "base_uri": "https://localhost:8080/"
        },
        "id": "Vynb7k4tI2Mg",
        "outputId": "98e25114-890e-42aa-a30d-ab66a6386bf0"
      },
      "execution_count": 27,
      "outputs": [
        {
          "output_type": "stream",
          "name": "stdout",
          "text": [
            "0 xor 0 = 0\n",
            "0 xor 1 = 1\n",
            "1 xor 0 = 1\n",
            "1 xor 1 = 0\n"
          ]
        }
      ]
    },
    {
      "cell_type": "markdown",
      "source": [
        "# **Training a quantum perceptron to solve the XOR problem**"
      ],
      "metadata": {
        "id": "qlpbRVfeM1dr"
      }
    },
    {
      "cell_type": "markdown",
      "source": [
        "After proving that we can solve the xor problem using a single quantum perceptron, now we prove that we can train it to solve the XOR problem."
      ],
      "metadata": {
        "id": "tJ3-64ScNF90"
      }
    },
    {
      "cell_type": "markdown",
      "source": [
        "The quantum_perceptron function is equivelent to a forward pass in the classical MLP it simulates a quantum circuit with input paramaters then is return the value of the qubit with the highest probability of accuring after measurement."
      ],
      "metadata": {
        "id": "PGzn43YnYJ_4"
      }
    },
    {
      "cell_type": "code",
      "source": [
        "def quantum_perceptron(qc, input_data, weights, bias):\n",
        "    qc.reset(0)\n",
        "    qc.h(0)\n",
        "    qc.rz(input_data[0]*weights[0]+bias[0], 0)\n",
        "    qc.rx(input_data[1]*weights[1]+bias[0], 0)\n",
        "    qc.measure(0, 0)\n",
        "    simulator = Aer.get_backend('aer_simulator')\n",
        "    job = simulator.run(qc, shots=1024)\n",
        "    results = job.result()\n",
        "    counts = results.get_counts()\n",
        "    max_key = max(counts, key=lambda k: counts[k])\n",
        "\n",
        "\n",
        "    prediction = int(max_key)\n",
        "\n",
        "    return prediction"
      ],
      "metadata": {
        "id": "WWkivrj_MwRX"
      },
      "execution_count": 28,
      "outputs": []
    },
    {
      "cell_type": "markdown",
      "source": [
        "The update_weights update the weights based on a simple rule:\n",
        "\n",
        "$w := w + \\eta (real  value - predictedvalue) * x$"
      ],
      "metadata": {
        "id": "Xh9FTWXyY2wK"
      }
    },
    {
      "cell_type": "code",
      "source": [
        "def update_weights(weights, l_rate, target, prediction, feature):\n",
        "    new_weights = []\n",
        "    for x, w in zip(feature, weights):\n",
        "        new_w = w + l_rate*(target - prediction)*x\n",
        "        new_weights.append(new_w[0])\n",
        "    \"\"\"This line is to solve the ircuitError:\n",
        "     \"Invalid param type <class 'numpy.ndarray'> for gate rz.\" problem.\"\"\"\n",
        "    new_weights = np.array(new_weights)\n",
        "    return new_weights"
      ],
      "metadata": {
        "id": "G-q9rr9oNZ3o"
      },
      "execution_count": 29,
      "outputs": []
    },
    {
      "cell_type": "markdown",
      "source": [
        "The same thing with update_bias except we do not multiply the loss with the features:\n",
        "\n",
        "$b := b + \\eta (real  value - predictedvalue)$"
      ],
      "metadata": {
        "id": "xute8g5wbPmN"
      }
    },
    {
      "cell_type": "code",
      "source": [
        "def update_bias(bias, l_rate, target, prediction):\n",
        "    return bias + l_rate*(target - prediction)"
      ],
      "metadata": {
        "id": "QmLNv9jQNk1c"
      },
      "execution_count": 30,
      "outputs": []
    },
    {
      "cell_type": "markdown",
      "source": [
        "We initialize the weights and the bias"
      ],
      "metadata": {
        "id": "_sM1T1AOboFi"
      }
    },
    {
      "cell_type": "code",
      "source": [
        "random_weights = np.random.uniform(-4, 4, 2)"
      ],
      "metadata": {
        "id": "NyDc2sJ2Nk6u"
      },
      "execution_count": 35,
      "outputs": []
    },
    {
      "cell_type": "code",
      "source": [
        "bias = np.random.uniform(-4, 4, 1)"
      ],
      "metadata": {
        "id": "SizhlUwsNrGL"
      },
      "execution_count": 36,
      "outputs": []
    },
    {
      "cell_type": "markdown",
      "source": [
        "Now we train our quantum perceptron with learning rate of 0.1 and 30 epochs."
      ],
      "metadata": {
        "id": "bOlqSYYebthW"
      }
    },
    {
      "cell_type": "code",
      "source": [
        "l_rate = 0.1\n",
        "epochs = 30\n",
        "for _ in range(epochs):\n",
        "    print(f'Epoch {_ + 1}')\n",
        "    i = 0\n",
        "    for data in x_input:\n",
        "        qc=QuantumCircuit(1, 1)\n",
        "        prediction = quantum_perceptron(qc, data, random_weights, bias)\n",
        "        if prediction != y_input[i]:\n",
        "            print('False')\n",
        "            random_weights = update_weights(random_weights, l_rate, y_input[i], prediction, data)\n",
        "            bias = update_bias(bias, l_rate, y_input[i], prediction)\n",
        "        else:\n",
        "            print('True')\n",
        "        i += 1"
      ],
      "metadata": {
        "colab": {
          "base_uri": "https://localhost:8080/"
        },
        "id": "SOIs19mVNtNP",
        "outputId": "293a1582-d7bf-4834-ab9d-0c859a2a47c7"
      },
      "execution_count": 37,
      "outputs": [
        {
          "output_type": "stream",
          "name": "stdout",
          "text": [
            "Epoch 1\n",
            "True\n",
            "True\n",
            "False\n",
            "False\n",
            "Epoch 2\n",
            "True\n",
            "True\n",
            "False\n",
            "False\n",
            "Epoch 3\n",
            "True\n",
            "True\n",
            "True\n",
            "False\n",
            "Epoch 4\n",
            "True\n",
            "True\n",
            "True\n",
            "True\n",
            "Epoch 5\n",
            "True\n",
            "True\n",
            "True\n",
            "True\n",
            "Epoch 6\n",
            "True\n",
            "True\n",
            "True\n",
            "True\n",
            "Epoch 7\n",
            "True\n",
            "True\n",
            "True\n",
            "True\n",
            "Epoch 8\n",
            "True\n",
            "True\n",
            "True\n",
            "True\n",
            "Epoch 9\n",
            "True\n",
            "True\n",
            "True\n",
            "True\n",
            "Epoch 10\n",
            "True\n",
            "True\n",
            "True\n",
            "True\n",
            "Epoch 11\n",
            "True\n",
            "True\n",
            "True\n",
            "True\n",
            "Epoch 12\n",
            "True\n",
            "True\n",
            "True\n",
            "True\n",
            "Epoch 13\n",
            "True\n",
            "True\n",
            "True\n",
            "True\n",
            "Epoch 14\n",
            "True\n",
            "True\n",
            "True\n",
            "True\n",
            "Epoch 15\n",
            "True\n",
            "True\n",
            "True\n",
            "True\n",
            "Epoch 16\n",
            "True\n",
            "True\n",
            "True\n",
            "True\n",
            "Epoch 17\n",
            "True\n",
            "True\n",
            "True\n",
            "True\n",
            "Epoch 18\n",
            "True\n",
            "True\n",
            "True\n",
            "True\n",
            "Epoch 19\n",
            "True\n",
            "True\n",
            "True\n",
            "True\n",
            "Epoch 20\n",
            "True\n",
            "True\n",
            "True\n",
            "True\n",
            "Epoch 21\n",
            "True\n",
            "True\n",
            "True\n",
            "True\n",
            "Epoch 22\n",
            "True\n",
            "True\n",
            "True\n",
            "True\n",
            "Epoch 23\n",
            "True\n",
            "True\n",
            "True\n",
            "True\n",
            "Epoch 24\n",
            "True\n",
            "True\n",
            "True\n",
            "True\n",
            "Epoch 25\n",
            "True\n",
            "True\n",
            "True\n",
            "True\n",
            "Epoch 26\n",
            "True\n",
            "True\n",
            "True\n",
            "True\n",
            "Epoch 27\n",
            "True\n",
            "True\n",
            "True\n",
            "True\n",
            "Epoch 28\n",
            "True\n",
            "True\n",
            "True\n",
            "True\n",
            "Epoch 29\n",
            "True\n",
            "True\n",
            "True\n",
            "True\n",
            "Epoch 30\n",
            "True\n",
            "True\n",
            "True\n",
            "True\n"
          ]
        }
      ]
    },
    {
      "cell_type": "markdown",
      "source": [
        "Now we test our quantum_perceptron to see if it learned."
      ],
      "metadata": {
        "id": "gsXNZ-CNN_JM"
      }
    },
    {
      "cell_type": "code",
      "source": [
        "i = 0\n",
        "for x in x_input:\n",
        "  qc = QuantumCircuit(1, 1)\n",
        "  prediction = quantum_perceptron(qc, x, random_weights, bias)\n",
        "  print(f'{x[0]} xor {x[1]} = {prediction}')\n",
        "  i+=1"
      ],
      "metadata": {
        "colab": {
          "base_uri": "https://localhost:8080/"
        },
        "id": "SbYrHhh7NtYW",
        "outputId": "4dad80ef-ecbb-438e-d143-22bc71ce1677"
      },
      "execution_count": 38,
      "outputs": [
        {
          "output_type": "stream",
          "name": "stdout",
          "text": [
            "0 xor 0 = 0\n",
            "0 xor 1 = 1\n",
            "1 xor 0 = 1\n",
            "1 xor 1 = 0\n"
          ]
        }
      ]
    },
    {
      "cell_type": "markdown",
      "source": [
        "We proved that we can solve a linearly inseparable problem using only one quantum perceptron, unlike the classical MLP that needs at least two perceptrons to solve the XOR problem."
      ],
      "metadata": {
        "id": "J0HeF4KHWni3"
      }
    },
    {
      "cell_type": "markdown",
      "source": [
        "# **Conclusion**"
      ],
      "metadata": {
        "id": "-euxztNHXGQG"
      }
    },
    {
      "cell_type": "markdown",
      "source": [
        "A quantum perceptron has the ability to solve a problem that is linearly inseparable due to the proprties of the Hilbert space."
      ],
      "metadata": {
        "id": "cZ9525XMXKjU"
      }
    }
  ]
}