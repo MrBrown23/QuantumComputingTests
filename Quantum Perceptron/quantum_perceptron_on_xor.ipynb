{
 "cells": [
  {
   "cell_type": "code",
   "execution_count": 1,
   "metadata": {
    "colab": {
     "base_uri": "https://localhost:8080/"
    },
    "id": "HPDsGXlXHfMw",
    "outputId": "d3bfa612-8d1d-4846-d720-b6d8c22a7395"
   },
   "outputs": [
    {
     "name": "stdout",
     "output_type": "stream",
     "text": [
      "Collecting qiskit\n",
      "  Downloading qiskit-1.0.2-cp38-abi3-manylinux_2_17_x86_64.manylinux2014_x86_64.whl (5.6 MB)\n",
      "\u001b[2K     \u001b[90m━━━━━━━━━━━━━━━━━━━━━━━━━━━━━━━━━━━━━━━━\u001b[0m \u001b[32m5.6/5.6 MB\u001b[0m \u001b[31m13.3 MB/s\u001b[0m eta \u001b[36m0:00:00\u001b[0m\n",
      "\u001b[?25hCollecting rustworkx>=0.14.0 (from qiskit)\n",
      "  Downloading rustworkx-0.14.2-cp310-cp310-manylinux_2_17_x86_64.manylinux2014_x86_64.whl (2.1 MB)\n",
      "\u001b[2K     \u001b[90m━━━━━━━━━━━━━━━━━━━━━━━━━━━━━━━━━━━━━━━━\u001b[0m \u001b[32m2.1/2.1 MB\u001b[0m \u001b[31m23.2 MB/s\u001b[0m eta \u001b[36m0:00:00\u001b[0m\n",
      "\u001b[?25hRequirement already satisfied: numpy<2,>=1.17 in /usr/local/lib/python3.10/dist-packages (from qiskit) (1.25.2)\n",
      "Requirement already satisfied: scipy>=1.5 in /usr/local/lib/python3.10/dist-packages (from qiskit) (1.11.4)\n",
      "Requirement already satisfied: sympy>=1.3 in /usr/local/lib/python3.10/dist-packages (from qiskit) (1.12)\n",
      "Collecting dill>=0.3 (from qiskit)\n",
      "  Downloading dill-0.3.8-py3-none-any.whl (116 kB)\n",
      "\u001b[2K     \u001b[90m━━━━━━━━━━━━━━━━━━━━━━━━━━━━━━━━━━━━━━━━\u001b[0m \u001b[32m116.3/116.3 kB\u001b[0m \u001b[31m7.0 MB/s\u001b[0m eta \u001b[36m0:00:00\u001b[0m\n",
      "\u001b[?25hRequirement already satisfied: python-dateutil>=2.8.0 in /usr/local/lib/python3.10/dist-packages (from qiskit) (2.8.2)\n",
      "Collecting stevedore>=3.0.0 (from qiskit)\n",
      "  Downloading stevedore-5.2.0-py3-none-any.whl (49 kB)\n",
      "\u001b[2K     \u001b[90m━━━━━━━━━━━━━━━━━━━━━━━━━━━━━━━━━━━━━━━━\u001b[0m \u001b[32m49.7/49.7 kB\u001b[0m \u001b[31m4.5 MB/s\u001b[0m eta \u001b[36m0:00:00\u001b[0m\n",
      "\u001b[?25hRequirement already satisfied: typing-extensions in /usr/local/lib/python3.10/dist-packages (from qiskit) (4.11.0)\n",
      "Collecting symengine>=0.11 (from qiskit)\n",
      "  Downloading symengine-0.11.0-cp310-cp310-manylinux_2_12_x86_64.manylinux2010_x86_64.whl (39.4 MB)\n",
      "\u001b[2K     \u001b[90m━━━━━━━━━━━━━━━━━━━━━━━━━━━━━━━━━━━━━━━━\u001b[0m \u001b[32m39.4/39.4 MB\u001b[0m \u001b[31m11.8 MB/s\u001b[0m eta \u001b[36m0:00:00\u001b[0m\n",
      "\u001b[?25hRequirement already satisfied: six>=1.5 in /usr/local/lib/python3.10/dist-packages (from python-dateutil>=2.8.0->qiskit) (1.16.0)\n",
      "Collecting pbr!=2.1.0,>=2.0.0 (from stevedore>=3.0.0->qiskit)\n",
      "  Downloading pbr-6.0.0-py2.py3-none-any.whl (107 kB)\n",
      "\u001b[2K     \u001b[90m━━━━━━━━━━━━━━━━━━━━━━━━━━━━━━━━━━━━━━━━\u001b[0m \u001b[32m107.5/107.5 kB\u001b[0m \u001b[31m4.6 MB/s\u001b[0m eta \u001b[36m0:00:00\u001b[0m\n",
      "\u001b[?25hRequirement already satisfied: mpmath>=0.19 in /usr/local/lib/python3.10/dist-packages (from sympy>=1.3->qiskit) (1.3.0)\n",
      "Installing collected packages: symengine, rustworkx, pbr, dill, stevedore, qiskit\n",
      "Successfully installed dill-0.3.8 pbr-6.0.0 qiskit-1.0.2 rustworkx-0.14.2 stevedore-5.2.0 symengine-0.11.0\n",
      "Collecting qiskit_aer\n",
      "  Downloading qiskit_aer-0.14.1-cp310-cp310-manylinux_2_17_x86_64.manylinux2014_x86_64.whl (12.3 MB)\n",
      "\u001b[2K     \u001b[90m━━━━━━━━━━━━━━━━━━━━━━━━━━━━━━━━━━━━━━━━\u001b[0m \u001b[32m12.3/12.3 MB\u001b[0m \u001b[31m13.4 MB/s\u001b[0m eta \u001b[36m0:00:00\u001b[0m\n",
      "\u001b[?25hRequirement already satisfied: qiskit>=0.45.0 in /usr/local/lib/python3.10/dist-packages (from qiskit_aer) (1.0.2)\n",
      "Requirement already satisfied: numpy>=1.16.3 in /usr/local/lib/python3.10/dist-packages (from qiskit_aer) (1.25.2)\n",
      "Requirement already satisfied: scipy>=1.0 in /usr/local/lib/python3.10/dist-packages (from qiskit_aer) (1.11.4)\n",
      "Requirement already satisfied: psutil>=5 in /usr/local/lib/python3.10/dist-packages (from qiskit_aer) (5.9.5)\n",
      "Requirement already satisfied: rustworkx>=0.14.0 in /usr/local/lib/python3.10/dist-packages (from qiskit>=0.45.0->qiskit_aer) (0.14.2)\n",
      "Requirement already satisfied: sympy>=1.3 in /usr/local/lib/python3.10/dist-packages (from qiskit>=0.45.0->qiskit_aer) (1.12)\n",
      "Requirement already satisfied: dill>=0.3 in /usr/local/lib/python3.10/dist-packages (from qiskit>=0.45.0->qiskit_aer) (0.3.8)\n",
      "Requirement already satisfied: python-dateutil>=2.8.0 in /usr/local/lib/python3.10/dist-packages (from qiskit>=0.45.0->qiskit_aer) (2.8.2)\n",
      "Requirement already satisfied: stevedore>=3.0.0 in /usr/local/lib/python3.10/dist-packages (from qiskit>=0.45.0->qiskit_aer) (5.2.0)\n",
      "Requirement already satisfied: typing-extensions in /usr/local/lib/python3.10/dist-packages (from qiskit>=0.45.0->qiskit_aer) (4.11.0)\n",
      "Requirement already satisfied: symengine>=0.11 in /usr/local/lib/python3.10/dist-packages (from qiskit>=0.45.0->qiskit_aer) (0.11.0)\n",
      "Requirement already satisfied: six>=1.5 in /usr/local/lib/python3.10/dist-packages (from python-dateutil>=2.8.0->qiskit>=0.45.0->qiskit_aer) (1.16.0)\n",
      "Requirement already satisfied: pbr!=2.1.0,>=2.0.0 in /usr/local/lib/python3.10/dist-packages (from stevedore>=3.0.0->qiskit>=0.45.0->qiskit_aer) (6.0.0)\n",
      "Requirement already satisfied: mpmath>=0.19 in /usr/local/lib/python3.10/dist-packages (from sympy>=1.3->qiskit>=0.45.0->qiskit_aer) (1.3.0)\n",
      "Installing collected packages: qiskit_aer\n",
      "Successfully installed qiskit_aer-0.14.1\n",
      "Collecting pylatexenc\n",
      "  Downloading pylatexenc-2.10.tar.gz (162 kB)\n",
      "\u001b[2K     \u001b[90m━━━━━━━━━━━━━━━━━━━━━━━━━━━━━━━━━━━━━━━━\u001b[0m \u001b[32m162.6/162.6 kB\u001b[0m \u001b[31m3.0 MB/s\u001b[0m eta \u001b[36m0:00:00\u001b[0m\n",
      "\u001b[?25h  Preparing metadata (setup.py) ... \u001b[?25l\u001b[?25hdone\n",
      "Building wheels for collected packages: pylatexenc\n",
      "  Building wheel for pylatexenc (setup.py) ... \u001b[?25l\u001b[?25hdone\n",
      "  Created wheel for pylatexenc: filename=pylatexenc-2.10-py3-none-any.whl size=136816 sha256=4942811895b5d44609799d411990fee418841234f00b74c8a8095fbc26d510cd\n",
      "  Stored in directory: /root/.cache/pip/wheels/d3/31/8b/e09b0386afd80cfc556c00408c9aeea5c35c4d484a9c762fd5\n",
      "Successfully built pylatexenc\n",
      "Installing collected packages: pylatexenc\n",
      "Successfully installed pylatexenc-2.10\n"
     ]
    }
   ],
   "source": [
    "!pip install qiskit\n",
    "!pip install qiskit_aer\n",
    "!pip install pylatexenc"
   ]
  },
  {
   "cell_type": "markdown",
   "metadata": {
    "id": "k7MHelTtILS2"
   },
   "source": [
    "# **Solving the XOR problem using a single quantum perceptron.**"
   ]
  },
  {
   "cell_type": "code",
   "execution_count": 1,
   "metadata": {
    "id": "SBCfuGcTIAHs"
   },
   "outputs": [],
   "source": [
    "from qiskit import QuantumCircuit\n",
    "from qiskit_aer import Aer\n",
    "import numpy as np\n",
    "import matplotlib.pyplot as plt\n",
    "from IPython.display import clear_output"
   ]
  },
  {
   "cell_type": "code",
   "execution_count": 2,
   "metadata": {
    "id": "TDXi3ocZI-KO"
   },
   "outputs": [],
   "source": [
    "theta = np.pi\n",
    "alpha = -np.pi/2"
   ]
  },
  {
   "cell_type": "code",
   "execution_count": 3,
   "metadata": {
    "id": "oKQ1J1HiJO3n"
   },
   "outputs": [],
   "source": [
    "x_input = np.array([[0, 0], [0, 1], [1, 0], [1, 1]])\n",
    "y_input = np.array([[0], [1], [1], [0]])"
   ]
  },
  {
   "cell_type": "markdown",
   "metadata": {
    "id": "H1OffBpHVU1p"
   },
   "source": [
    "Here is the circuit we gonna use to solve the XOR problem.\n",
    "The circuit is combined of a hadamard gate a Rz gate and a Rx gate"
   ]
  },
  {
   "cell_type": "code",
   "execution_count": 4,
   "metadata": {
    "colab": {
     "base_uri": "https://localhost:8080/",
     "height": 346
    },
    "id": "ROaFyN4CU7T_",
    "outputId": "acaa546b-bf1e-4e1d-99d3-cefa7bda1b7a"
   },
   "outputs": [
    {
     "data": {
      "image/png": "[encoded data removed]",
      "text/plain": [
       "<Figure size 1039.79x401.333 with 1 Axes>"
      ]
     },
     "execution_count": 4,
     "metadata": {},
     "output_type": "execute_result"
    }
   ],
   "source": [
    "quantum_circuit = QuantumCircuit(1, 1)\n",
    "quantum_circuit.reset(0)\n",
    "quantum_circuit.h(0)\n",
    "quantum_circuit.rz(x_input[0][0]*theta + alpha, 0)\n",
    "quantum_circuit.rx(x_input[0][1]*theta + alpha, 0)\n",
    "quantum_circuit.measure(0, 0)\n",
    "quantum_circuit.draw(output='mpl', scale=2, style='iqx')"
   ]
  },
  {
   "cell_type": "code",
   "execution_count": 5,
   "metadata": {
    "colab": {
     "base_uri": "https://localhost:8080/"
    },
    "id": "Vynb7k4tI2Mg",
    "outputId": "98e25114-890e-42aa-a30d-ab66a6386bf0"
   },
   "outputs": [
    {
     "name": "stdout",
     "output_type": "stream",
     "text": [
      "0 xor 0 = 0\n",
      "0 xor 1 = 1\n",
      "1 xor 0 = 1\n",
      "1 xor 1 = 0\n"
     ]
    }
   ],
   "source": [
    "for x in x_input:\n",
    "  quantum_circuit = QuantumCircuit(1, 1)\n",
    "  quantum_circuit.reset(0)\n",
    "  quantum_circuit.h(0)\n",
    "  quantum_circuit.rz(x[0]*theta + alpha, 0)\n",
    "  quantum_circuit.rx(x[1]*theta + alpha, 0)\n",
    "  quantum_circuit.measure(0, 0)\n",
    "  simulator = Aer.get_backend('aer_simulator')\n",
    "  job = simulator.run(quantum_circuit, shots=1024)\n",
    "  results = job.result()\n",
    "  counts = results.get_counts()\n",
    "  max_key = max(counts, key=lambda k: counts[k])\n",
    "  prediction = int(max_key)\n",
    "  print(f'{x[0]} xor {x[1]} = {prediction}')\n"
   ]
  },
  {
   "cell_type": "markdown",
   "metadata": {
    "id": "qlpbRVfeM1dr"
   },
   "source": [
    "# **Training a quantum perceptron to solve the XOR problem**"
   ]
  },
  {
   "cell_type": "markdown",
   "metadata": {
    "id": "tJ3-64ScNF90"
   },
   "source": [
    "After proving that we can solve the xor problem using a single quantum perceptron, now we prove that we can train it to solve the XOR problem."
   ]
  },
  {
   "cell_type": "markdown",
   "metadata": {
    "id": "PGzn43YnYJ_4"
   },
   "source": [
    "The quantum_perceptron function is equivelent to a forward pass in the classical MLP it simulates a quantum circuit with input paramaters then is return the value of the qubit with the highest probability of accuring after measurement."
   ]
  },
  {
   "cell_type": "code",
   "execution_count": 6,
   "metadata": {
    "id": "WWkivrj_MwRX"
   },
   "outputs": [],
   "source": [
    "def quantum_perceptron(qc, input_data, weights, bias):\n",
    "    qc.reset(0)\n",
    "    qc.h(0)\n",
    "    qc.rz(input_data[0]*weights[0]+bias[0], 0)\n",
    "    qc.rx(input_data[1]*weights[1]+bias[0], 0)\n",
    "    qc.measure(0, 0)\n",
    "    simulator = Aer.get_backend('aer_simulator')\n",
    "    job = simulator.run(qc, shots=1024)\n",
    "    results = job.result()\n",
    "    counts = results.get_counts()\n",
    "    max_key = max(counts, key=lambda k: counts[k])\n",
    "\n",
    "\n",
    "    prediction = int(max_key)\n",
    "\n",
    "    return prediction"
   ]
  },
  {
   "cell_type": "code",
   "execution_count": 7,
   "metadata": {},
   "outputs": [],
   "source": [
    "objective_func_vals = []\n",
    "\n",
    "def callback_graph(obj_func_eval):\n",
    "  clear_output(wait=True)\n",
    "  objective_func_vals.append(obj_func_eval)\n",
    "  plt.title(\"Objective function value against iteration\")\n",
    "  plt.xlabel(\"Iteration\")\n",
    "  plt.ylabel(\"Objective function value\")\n",
    "  plt.plot(range(len(objective_func_vals)), objective_func_vals)\n",
    "  plt.show()"
   ]
  },
  {
   "cell_type": "code",
   "execution_count": 8,
   "metadata": {},
   "outputs": [],
   "source": [
    "def calculate_loss(target, prediction):\n",
    "    return np.mean(np.abs(target - prediction))"
   ]
  },
  {
   "cell_type": "markdown",
   "metadata": {
    "id": "Xh9FTWXyY2wK"
   },
   "source": [
    "The update_weights update the weights based on a simple rule:\n",
    "\n",
    "$w := w + \\eta (real  value - predictedvalue) * x$"
   ]
  },
  {
   "cell_type": "code",
   "execution_count": 9,
   "metadata": {
    "id": "G-q9rr9oNZ3o"
   },
   "outputs": [],
   "source": [
    "def update_weights(weights, l_rate, target, prediction, feature):\n",
    "    new_weights = []\n",
    "    for x, w in zip(feature, weights):\n",
    "        new_w = w + l_rate*(target - prediction)*x\n",
    "        new_weights.append(new_w[0])\n",
    "    \"\"\"This line is to solve the ircuitError:\n",
    "     \"Invalid param type <class 'numpy.ndarray'> for gate rz.\" problem.\"\"\"\n",
    "    new_weights = np.array(new_weights)\n",
    "    return new_weights"
   ]
  },
  {
   "cell_type": "markdown",
   "metadata": {
    "id": "xute8g5wbPmN"
   },
   "source": [
    "The same thing with update_bias except we do not multiply the loss with the features:\n",
    "\n",
    "$b := b + \\eta (real  value - predictedvalue)$"
   ]
  },
  {
   "cell_type": "code",
   "execution_count": 10,
   "metadata": {
    "id": "QmLNv9jQNk1c"
   },
   "outputs": [],
   "source": [
    "def update_bias(bias, l_rate, target, prediction):\n",
    "    return bias + l_rate*(target - prediction)"
   ]
  },
  {
   "cell_type": "markdown",
   "metadata": {
    "id": "_sM1T1AOboFi"
   },
   "source": [
    "We initialize the weights and the bias"
   ]
  },
  {
   "cell_type": "code",
   "execution_count": 11,
   "metadata": {
    "id": "NyDc2sJ2Nk6u"
   },
   "outputs": [],
   "source": [
    "random_weights = np.random.uniform(-4, 4, 2)"
   ]
  },
  {
   "cell_type": "code",
   "execution_count": 12,
   "metadata": {
    "id": "SizhlUwsNrGL"
   },
   "outputs": [],
   "source": [
    "bias = np.random.uniform(-4, 4, 1)"
   ]
  },
  {
   "cell_type": "markdown",
   "metadata": {
    "id": "bOlqSYYebthW"
   },
   "source": [
    "Now we train our quantum perceptron with learning rate of 0.1 and 30 epochs."
   ]
  },
  {
   "cell_type": "code",
   "execution_count": 13,
   "metadata": {
    "colab": {
     "base_uri": "https://localhost:8080/"
    },
    "id": "SOIs19mVNtNP",
    "outputId": "293a1582-d7bf-4834-ab9d-0c859a2a47c7"
   },
   "outputs": [
    {
     "data": {
      "image/png": "[encoded data removed]",
      "text/plain": [
       "<Figure size 640x480 with 1 Axes>"
      ]
     },
     "metadata": {},
     "output_type": "display_data"
    }
   ],
   "source": [
    "l_rate = 0.1\n",
    "epochs = 80\n",
    "objective_func_vals = []\n",
    "for _ in range(epochs):\n",
    "#     print(f'Epoch {_ + 1}')\n",
    "    i = 0\n",
    "    targets = []\n",
    "    preds = []\n",
    "    for data in x_input:\n",
    "        qc=QuantumCircuit(1, 1)\n",
    "        prediction = quantum_perceptron(qc, data, random_weights, bias)\n",
    "        preds.append(prediction)\n",
    "        targets.append(np.array(y_input[i]))\n",
    "        if prediction != y_input[i]:\n",
    "\n",
    "            random_weights = update_weights(random_weights, l_rate, y_input[i], prediction, data)\n",
    "            bias = update_bias(bias, l_rate, y_input[i], prediction)\n",
    "\n",
    "        i += 1\n",
    "\n",
    "    preds = np.array(preds)\n",
    "    targets = np.array(targets)\n",
    "    targets = targets.flatten()\n",
    "    loss = calculate_loss(target=targets, prediction=preds)\n",
    "    callback_graph(loss)\n",
    "\n",
    "    "
   ]
  },
  {
   "cell_type": "markdown",
   "metadata": {
    "id": "gsXNZ-CNN_JM"
   },
   "source": [
    "Now we test our quantum_perceptron to see if it learned."
   ]
  },
  {
   "cell_type": "code",
   "execution_count": 14,
   "metadata": {
    "colab": {
     "base_uri": "https://localhost:8080/"
    },
    "id": "SbYrHhh7NtYW",
    "outputId": "4dad80ef-ecbb-438e-d143-22bc71ce1677"
   },
   "outputs": [
    {
     "name": "stdout",
     "output_type": "stream",
     "text": [
      "0 xor 0 = 0\n",
      "0 xor 1 = 1\n",
      "1 xor 0 = 1\n",
      "1 xor 1 = 0\n"
     ]
    }
   ],
   "source": [
    "i = 0\n",
    "for x in x_input:\n",
    "  qc = QuantumCircuit(1, 1)\n",
    "  prediction = quantum_perceptron(qc, x, random_weights, bias)\n",
    "  print(f'{x[0]} xor {x[1]} = {prediction}')\n",
    "  i+=1"
   ]
  },
  {
   "cell_type": "markdown",
   "metadata": {
    "id": "J0HeF4KHWni3"
   },
   "source": [
    "We proved that we can solve a linearly inseparable problem using only one quantum perceptron, unlike the classical MLP that needs at least two perceptrons to solve the XOR problem."
   ]
  },
  {
   "cell_type": "markdown",
   "metadata": {
    "id": "-euxztNHXGQG"
   },
   "source": [
    "# **Conclusion**"
   ]
  },
  {
   "cell_type": "markdown",
   "metadata": {
    "id": "cZ9525XMXKjU"
   },
   "source": [
    "A quantum perceptron has the ability to solve a problem that is linearly inseparable due to the proprties of the Hilbert space."
   ]
  },
  {
   "cell_type": "code",
   "execution_count": null,
   "metadata": {},
   "outputs": [],
   "source": []
  }
 ],
 "metadata": {
  "accelerator": "TPU",
  "colab": {
   "gpuType": "V28",
   "provenance": []
  },
  "kernelspec": {
   "display_name": "Python 3 (ipykernel)",
   "language": "python",
   "name": "python3"
  },
  "language_info": {
   "codemirror_mode": {
    "name": "ipython",
    "version": 3
   },
   "file_extension": ".py",
   "mimetype": "text/x-python",
   "name": "python",
   "nbconvert_exporter": "python",
   "pygments_lexer": "ipython3",
   "version": "3.8.10"
  }
 },
 "nbformat": 4,
 "nbformat_minor": 1
}
